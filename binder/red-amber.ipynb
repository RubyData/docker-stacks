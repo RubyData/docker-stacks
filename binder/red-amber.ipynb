{
 "cells": [
  {
   "cell_type": "markdown",
   "metadata": {},
   "source": [
    "# Red Amber Examples\n",
    "\n",
    "This notebook walks through the [README of RedAmber](https://github.com/heronshoes/red_amber#readme)."
   ]
  },
  {
   "cell_type": "markdown",
   "metadata": {},
   "source": [
    "## `RedAmber::DataFrame`"
   ]
  },
  {
   "cell_type": "code",
   "execution_count": 1,
   "metadata": {},
   "outputs": [
    {
     "data": {
      "text/plain": [
       "true"
      ]
     },
     "execution_count": 1,
     "metadata": {},
     "output_type": "execute_result"
    }
   ],
   "source": [
    "require \"red_amber\"\n",
    "require \"datasets-arrow\""
   ]
  },
  {
   "cell_type": "code",
   "execution_count": 2,
   "metadata": {},
   "outputs": [
    {
     "data": {
      "text/html": [
       "RedAmber::DataFrame <344 x 8 vectors> <table><tr><th>species</th><th>island</th><th>bill_length_mm</th><th>bill_depth_mm</th><th>flipper_length_mm</th><th>body_mass_g</th><th>sex</th><th>year</th></tr><tr><td>Adelie</td><td>Torgersen</td><td>39.1</td><td>18.7</td><td>181</td><td>3750</td><td>male</td><td>2007</td></tr><tr><td>Adelie</td><td>Torgersen</td><td>39.5</td><td>17.4</td><td>186</td><td>3800</td><td>female</td><td>2007</td></tr><tr><td>Adelie</td><td>Torgersen</td><td>40.3</td><td>18.0</td><td>195</td><td>3250</td><td>female</td><td>2007</td></tr><tr><td>Adelie</td><td>Torgersen</td><td><i>(nil)</i></td><td><i>(nil)</i></td><td><i>(nil)</i></td><td><i>(nil)</i></td><td><i>(nil)</i></td><td>2007</td></tr><tr><td colspan='8'>&#8942;</td></tr><tr><td>Gentoo</td><td>Biscoe</td><td>50.4</td><td>15.7</td><td>222</td><td>5750</td><td>male</td><td>2009</td></tr><tr><td>Gentoo</td><td>Biscoe</td><td>45.2</td><td>14.8</td><td>212</td><td>5200</td><td>female</td><td>2009</td></tr><tr><td>Gentoo</td><td>Biscoe</td><td>49.9</td><td>16.1</td><td>213</td><td>5400</td><td>male</td><td>2009</td></tr></table>"
      ],
      "text/plain": [
       "#<RedAmber::DataFrame : 344 x 8 Vectors, 0x000000000000f0dc>\n",
       "    species  island    bill_length_mm bill_depth_mm flipper_length_mm ...     year\n",
       "    <string> <string>        <double>      <double>           <uint8> ... <uint16>\n",
       "  1 Adelie   Torgersen           39.1          18.7               181 ...     2007\n",
       "  2 Adelie   Torgersen           39.5          17.4               186 ...     2007\n",
       "  3 Adelie   Torgersen           40.3          18.0               195 ...     2007\n",
       "  4 Adelie   Torgersen          (nil)         (nil)             (nil) ...     2007\n",
       "  5 Adelie   Torgersen           36.7          19.3               193 ...     2007\n",
       "  : :        :                      :             :                 : ...        :\n",
       "342 Gentoo   Biscoe              50.4          15.7               222 ...     2009\n",
       "343 Gentoo   Biscoe              45.2          14.8               212 ...     2009\n",
       "344 Gentoo   Biscoe              49.9          16.1               213 ...     2009\n"
      ]
     },
     "execution_count": 2,
     "metadata": {},
     "output_type": "execute_result"
    }
   ],
   "source": [
    "arrow = Datasets::Penguins.new.to_arrow\n",
    "penguins = RedAmber::DataFrame.new(arrow)"
   ]
  },
  {
   "cell_type": "code",
   "execution_count": 3,
   "metadata": {},
   "outputs": [
    {
     "data": {
      "text/plain": [
       "[:species, :island, :bill_length_mm, :bill_depth_mm, :flipper_length_mm, :body_mass_g, :sex, :year]"
      ]
     },
     "execution_count": 3,
     "metadata": {},
     "output_type": "execute_result"
    }
   ],
   "source": [
    "penguins.keys"
   ]
  },
  {
   "cell_type": "code",
   "execution_count": 4,
   "metadata": {},
   "outputs": [
    {
     "data": {
      "text/html": [
       "RedAmber::DataFrame <344 x 3 vectors> <table><tr><th>species</th><th>island</th><th>body_mass_g</th></tr><tr><td>Adelie</td><td>Torgersen</td><td>3750</td></tr><tr><td>Adelie</td><td>Torgersen</td><td>3800</td></tr><tr><td>Adelie</td><td>Torgersen</td><td>3250</td></tr><tr><td>Adelie</td><td>Torgersen</td><td><i>(nil)</i></td></tr><tr><td colspan='3'>&#8942;</td></tr><tr><td>Gentoo</td><td>Biscoe</td><td>5750</td></tr><tr><td>Gentoo</td><td>Biscoe</td><td>5200</td></tr><tr><td>Gentoo</td><td>Biscoe</td><td>5400</td></tr></table>"
      ],
      "text/plain": [
       "#<RedAmber::DataFrame : 344 x 3 Vectors, 0x000000000000f0f0>\n",
       "    species  island    body_mass_g\n",
       "    <string> <string>     <uint16>\n",
       "  1 Adelie   Torgersen        3750\n",
       "  2 Adelie   Torgersen        3800\n",
       "  3 Adelie   Torgersen        3250\n",
       "  4 Adelie   Torgersen       (nil)\n",
       "  5 Adelie   Torgersen        3450\n",
       "  : :        :                   :\n",
       "342 Gentoo   Biscoe           5750\n",
       "343 Gentoo   Biscoe           5200\n",
       "344 Gentoo   Biscoe           5400\n"
      ]
     },
     "execution_count": 4,
     "metadata": {},
     "output_type": "execute_result"
    }
   ],
   "source": [
    "df = penguins.pick(:species, :island, :body_mass_g)\n",
    "df"
   ]
  },
  {
   "cell_type": "code",
   "execution_count": 5,
   "metadata": {},
   "outputs": [
    {
     "data": {
      "text/html": [
       "RedAmber::DataFrame <344 x 1 vector> <table><tr><th>body_mass_g</th></tr><tr><td>3750</td></tr><tr><td>3800</td></tr><tr><td>3250</td></tr><tr><td><i>(nil)</i></td></tr><tr><td>&#8942;</td></tr><tr><td>5750</td></tr><tr><td>5200</td></tr><tr><td>5400</td></tr></table>"
      ],
      "text/plain": [
       "#<RedAmber::DataFrame : 344 x 1 Vector, 0x000000000000f104>\n",
       "    body_mass_g\n",
       "       <uint16>\n",
       "  1        3750\n",
       "  2        3800\n",
       "  3        3250\n",
       "  4       (nil)\n",
       "  5        3450\n",
       "  :           :\n",
       "342        5750\n",
       "343        5200\n",
       "344        5400\n"
      ]
     },
     "execution_count": 5,
     "metadata": {},
     "output_type": "execute_result"
    }
   ],
   "source": [
    "df = df.drop(true, true, false)"
   ]
  },
  {
   "cell_type": "code",
   "execution_count": 6,
   "metadata": {},
   "outputs": [
    {
     "data": {
      "text/html": [
       "RedAmber::DataFrame <344 x 2 vectors> <table><tr><th>body_mass_g</th><th>body_mass_kg</th></tr><tr><td>3750</td><td>3.75</td></tr><tr><td>3800</td><td>3.8</td></tr><tr><td>3250</td><td>3.25</td></tr><tr><td><i>(nil)</i></td><td><i>(nil)</i></td></tr><tr><td colspan='2'>&#8942;</td></tr><tr><td>5750</td><td>5.75</td></tr><tr><td>5200</td><td>5.2</td></tr><tr><td>5400</td><td>5.4</td></tr></table>"
      ],
      "text/plain": [
       "#<RedAmber::DataFrame : 344 x 2 Vectors, 0x000000000000f118>\n",
       "    body_mass_g body_mass_kg\n",
       "       <uint16>     <double>\n",
       "  1        3750         3.75\n",
       "  2        3800          3.8\n",
       "  3        3250         3.25\n",
       "  4       (nil)        (nil)\n",
       "  5        3450         3.45\n",
       "  :           :            :\n",
       "342        5750         5.75\n",
       "343        5200          5.2\n",
       "344        5400          5.4\n"
      ]
     },
     "execution_count": 6,
     "metadata": {},
     "output_type": "execute_result"
    }
   ],
   "source": [
    "df.assign(:body_mass_kg => df[:body_mass_g] / 1000.0)"
   ]
  },
  {
   "cell_type": "code",
   "execution_count": 7,
   "metadata": {},
   "outputs": [
    {
     "data": {
      "text/html": [
       "RedAmber::DataFrame <10 x 8 vectors> <table><tr><th>species</th><th>island</th><th>bill_length_mm</th><th>bill_depth_mm</th><th>flipper_length_mm</th><th>body_mass_g</th><th>sex</th><th>year</th></tr><tr><td>Adelie</td><td>Torgersen</td><td>39.1</td><td>18.7</td><td>181</td><td>3750</td><td>male</td><td>2007</td></tr><tr><td>Adelie</td><td>Torgersen</td><td>39.5</td><td>17.4</td><td>186</td><td>3800</td><td>female</td><td>2007</td></tr><tr><td>Adelie</td><td>Torgersen</td><td>40.3</td><td>18.0</td><td>195</td><td>3250</td><td>female</td><td>2007</td></tr><tr><td>Adelie</td><td>Torgersen</td><td><i>(nil)</i></td><td><i>(nil)</i></td><td><i>(nil)</i></td><td><i>(nil)</i></td><td><i>(nil)</i></td><td>2007</td></tr><tr><td colspan='8'>&#8942;</td></tr><tr><td>Gentoo</td><td>Biscoe</td><td>50.4</td><td>15.7</td><td>222</td><td>5750</td><td>male</td><td>2009</td></tr><tr><td>Gentoo</td><td>Biscoe</td><td>45.2</td><td>14.8</td><td>212</td><td>5200</td><td>female</td><td>2009</td></tr><tr><td>Gentoo</td><td>Biscoe</td><td>49.9</td><td>16.1</td><td>213</td><td>5400</td><td>male</td><td>2009</td></tr></table>"
      ],
      "text/plain": [
       "#<RedAmber::DataFrame : 10 x 8 Vectors, 0x000000000000f12c>\n",
       "   species  island    bill_length_mm bill_depth_mm flipper_length_mm ...     year\n",
       "   <string> <string>        <double>      <double>           <uint8> ... <uint16>\n",
       " 1 Adelie   Torgersen           39.1          18.7               181 ...     2007\n",
       " 2 Adelie   Torgersen           39.5          17.4               186 ...     2007\n",
       " 3 Adelie   Torgersen           40.3          18.0               195 ...     2007\n",
       " 4 Adelie   Torgersen          (nil)         (nil)             (nil) ...     2007\n",
       " 5 Adelie   Torgersen           36.7          19.3               193 ...     2007\n",
       " : :        :                      :             :                 : ...        :\n",
       " 8 Gentoo   Biscoe              50.4          15.7               222 ...     2009\n",
       " 9 Gentoo   Biscoe              45.2          14.8               212 ...     2009\n",
       "10 Gentoo   Biscoe              49.9          16.1               213 ...     2009\n"
      ]
     },
     "execution_count": 7,
     "metadata": {},
     "output_type": "execute_result"
    }
   ],
   "source": [
    "penguins.slice(0...5, -5..-1)"
   ]
  },
  {
   "cell_type": "code",
   "execution_count": 8,
   "metadata": {},
   "outputs": [
    {
     "data": {
      "text/html": [
       "RedAmber::DataFrame <244 x 8 vectors> <table><tr><th>species</th><th>island</th><th>bill_length_mm</th><th>bill_depth_mm</th><th>flipper_length_mm</th><th>body_mass_g</th><th>sex</th><th>year</th></tr><tr><td>Adelie</td><td>Torgersen</td><td>40.3</td><td>18.0</td><td>195</td><td>3250</td><td>female</td><td>2007</td></tr><tr><td>Adelie</td><td>Torgersen</td><td><i>(nil)</i></td><td><i>(nil)</i></td><td><i>(nil)</i></td><td><i>(nil)</i></td><td><i>(nil)</i></td><td>2007</td></tr><tr><td>Adelie</td><td>Torgersen</td><td>42.0</td><td>20.2</td><td>190</td><td>4250</td><td><i>(nil)</i></td><td>2007</td></tr><tr><td>Adelie</td><td>Torgersen</td><td>41.1</td><td>17.6</td><td>182</td><td>3200</td><td>female</td><td>2007</td></tr><tr><td colspan='8'>&#8942;</td></tr><tr><td>Gentoo</td><td>Biscoe</td><td>50.4</td><td>15.7</td><td>222</td><td>5750</td><td>male</td><td>2009</td></tr><tr><td>Gentoo</td><td>Biscoe</td><td>45.2</td><td>14.8</td><td>212</td><td>5200</td><td>female</td><td>2009</td></tr><tr><td>Gentoo</td><td>Biscoe</td><td>49.9</td><td>16.1</td><td>213</td><td>5400</td><td>male</td><td>2009</td></tr></table>"
      ],
      "text/plain": [
       "#<RedAmber::DataFrame : 244 x 8 Vectors, 0x000000000000f140>\n",
       "    species  island    bill_length_mm bill_depth_mm flipper_length_mm ...     year\n",
       "    <string> <string>        <double>      <double>           <uint8> ... <uint16>\n",
       "  1 Adelie   Torgersen           40.3          18.0               195 ...     2007\n",
       "  2 Adelie   Torgersen          (nil)         (nil)             (nil) ...     2007\n",
       "  3 Adelie   Torgersen           42.0          20.2               190 ...     2007\n",
       "  4 Adelie   Torgersen           41.1          17.6               182 ...     2007\n",
       "  5 Adelie   Torgersen           42.5          20.7               197 ...     2007\n",
       "  : :        :                      :             :                 : ...        :\n",
       "242 Gentoo   Biscoe              50.4          15.7               222 ...     2009\n",
       "243 Gentoo   Biscoe              45.2          14.8               212 ...     2009\n",
       "244 Gentoo   Biscoe              49.9          16.1               213 ...     2009\n"
      ]
     },
     "execution_count": 8,
     "metadata": {},
     "output_type": "execute_result"
    }
   ],
   "source": [
    "\n",
    "penguins.remove(penguins[:bill_length_mm] < 40)"
   ]
  },
  {
   "cell_type": "code",
   "execution_count": 9,
   "metadata": {},
   "outputs": [
    {
     "data": {
      "text/html": [
       "RedAmber::DataFrame <5 x 4 vectors> <table><tr><th>integer</th><th>float</th><th>string</th><th>boolean</th></tr><tr><td>0</td><td>0.0</td><td>A</td><td>true</td></tr><tr><td>1</td><td>1.1</td><td>B</td><td>false</td></tr><tr><td>2</td><td>2.2</td><td>C</td><td>true</td></tr><tr><td>3</td><td>NaN</td><td>D</td><td>false</td></tr><tr><td><i>(nil)</i></td><td><i>(nil)</i></td><td><i>(nil)</i></td><td><i>(nil)</i></td></tr></table>"
      ],
      "text/plain": [
       "#<RedAmber::DataFrame : 5 x 4 Vectors, 0x000000000000f154>\n",
       "  integer    float string   boolean\n",
       "  <uint8> <double> <string> <boolean>\n",
       "1       0      0.0 A        true\n",
       "2       1      1.1 B        false\n",
       "3       2      2.2 C        true\n",
       "4       3      NaN D        false\n",
       "5   (nil)    (nil) (nil)    (nil)\n"
      ]
     },
     "execution_count": 9,
     "metadata": {},
     "output_type": "execute_result"
    }
   ],
   "source": [
    "df = RedAmber::DataFrame.new(\n",
    "  integer: [0, 1, 2, 3, nil],\n",
    "  float:   [0.0, 1.1, 2.2, Float::NAN, nil],\n",
    "  string:  [\"A\", \"B\", \"C\", \"D\", nil],\n",
    "  boolean: [true, false, true, false, nil]\n",
    ")\n",
    "df"
   ]
  },
  {
   "cell_type": "code",
   "execution_count": 10,
   "metadata": {},
   "outputs": [
    {
     "data": {
      "text/html": [
       "RedAmber::DataFrame <5 x 4 vectors> <table><tr><th>integer</th><th>float</th><th>string</th><th>boolean</th></tr><tr><td>0</td><td>-0.0</td><td>A</td><td>true</td></tr><tr><td>1</td><td>-1.1</td><td>B</td><td>false</td></tr><tr><td>2</td><td>-2.2</td><td>C</td><td>true</td></tr><tr><td>3</td><td>NaN</td><td>D</td><td>false</td></tr><tr><td><i>(nil)</i></td><td><i>(nil)</i></td><td><i>(nil)</i></td><td><i>(nil)</i></td></tr></table>"
      ],
      "text/plain": [
       "#<RedAmber::DataFrame : 5 x 4 Vectors, 0x000000000000f168>\n",
       "  integer    float string   boolean\n",
       "  <uint8> <double> <string> <boolean>\n",
       "1       0     -0.0 A        true\n",
       "2       1     -1.1 B        false\n",
       "3       2     -2.2 C        true\n",
       "4       3      NaN D        false\n",
       "5   (nil)    (nil) (nil)    (nil)\n"
      ]
     },
     "execution_count": 10,
     "metadata": {},
     "output_type": "execute_result"
    }
   ],
   "source": [
    "df.assign do\n",
    "  vectors.select(&:float?).map {|v| [v.key, -v]}\n",
    "end"
   ]
  },
  {
   "cell_type": "code",
   "execution_count": 11,
   "metadata": {},
   "outputs": [
    {
     "name": "stdout",
     "output_type": "stream",
     "text": [
      "RedAmber::DataFrame : 333 x 8 Vectors\n",
      "Vectors : 5 numeric, 3 strings\n",
      "# key                type   level data_preview\n",
      "1 :species           string     3 {\"Adelie\"=>146, \"Chinstrap\"=>68, \"Gentoo\"=>119}\n",
      "2 :island            string     3 {\"Torgersen\"=>47, \"Biscoe\"=>163, \"Dream\"=>123}\n",
      "3 :bill_length_mm    double   163 [39.1, 39.5, 40.3, 36.7, 39.3, ... ]\n",
      "4 :bill_depth_mm     double    79 [18.7, 17.4, 18.0, 19.3, 20.6, ... ]\n",
      "5 :flipper_length_mm uint8     54 [181, 186, 195, 193, 190, ... ]\n",
      "6 :body_mass_g       uint16    93 [3750, 3800, 3250, 3450, 3650, ... ]\n",
      "7 :sex               string     2 {\"male\"=>168, \"female\"=>165}\n",
      "8 :year              uint16     3 {2007=>103, 2008=>113, 2009=>117}\n"
     ]
    }
   ],
   "source": [
    "nil_removed = penguins.remove { vectors.map(&:is_nil).reduce(&:|) }\n",
    "nil_removed.tdr"
   ]
  },
  {
   "cell_type": "code",
   "execution_count": 12,
   "metadata": {},
   "outputs": [
    {
     "data": {
      "text/html": [
       "RedAmber::DataFrame <333 x 8 vectors> <table><tr><th>species</th><th>island</th><th>bill_length_mm</th><th>bill_depth_mm</th><th>flipper_length_mm</th><th>body_mass_g</th><th>sex</th><th>year</th></tr><tr><td>Adelie</td><td>Torgersen</td><td>39.1</td><td>18.7</td><td>181</td><td>3750</td><td>male</td><td>2007</td></tr><tr><td>Adelie</td><td>Torgersen</td><td>39.5</td><td>17.4</td><td>186</td><td>3800</td><td>female</td><td>2007</td></tr><tr><td>Adelie</td><td>Torgersen</td><td>40.3</td><td>18.0</td><td>195</td><td>3250</td><td>female</td><td>2007</td></tr><tr><td>Adelie</td><td>Torgersen</td><td>36.7</td><td>19.3</td><td>193</td><td>3450</td><td>female</td><td>2007</td></tr><tr><td colspan='8'>&#8942;</td></tr><tr><td>Gentoo</td><td>Biscoe</td><td>50.4</td><td>15.7</td><td>222</td><td>5750</td><td>male</td><td>2009</td></tr><tr><td>Gentoo</td><td>Biscoe</td><td>45.2</td><td>14.8</td><td>212</td><td>5200</td><td>female</td><td>2009</td></tr><tr><td>Gentoo</td><td>Biscoe</td><td>49.9</td><td>16.1</td><td>213</td><td>5400</td><td>male</td><td>2009</td></tr></table>"
      ],
      "text/plain": [
       "#<RedAmber::DataFrame : 333 x 8 Vectors, 0x000000000000f17c>\n",
       "    species  island    bill_length_mm bill_depth_mm flipper_length_mm ...     year\n",
       "    <string> <string>        <double>      <double>           <uint8> ... <uint16>\n",
       "  1 Adelie   Torgersen           39.1          18.7               181 ...     2007\n",
       "  2 Adelie   Torgersen           39.5          17.4               186 ...     2007\n",
       "  3 Adelie   Torgersen           40.3          18.0               195 ...     2007\n",
       "  4 Adelie   Torgersen           36.7          19.3               193 ...     2007\n",
       "  5 Adelie   Torgersen           39.3          20.6               190 ...     2007\n",
       "  : :        :                      :             :                 : ...        :\n",
       "331 Gentoo   Biscoe              50.4          15.7               222 ...     2009\n",
       "332 Gentoo   Biscoe              45.2          14.8               212 ...     2009\n",
       "333 Gentoo   Biscoe              49.9          16.1               213 ...     2009\n"
      ]
     },
     "execution_count": 12,
     "metadata": {},
     "output_type": "execute_result"
    }
   ],
   "source": [
    "penguins.remove_nil"
   ]
  },
  {
   "cell_type": "code",
   "execution_count": 14,
   "metadata": {},
   "outputs": [
    {
     "data": {
      "text/html": [
       "RedAmber::DataFrame <5 x 9 vectors> <table><tr><th>variables</th><th>count</th><th>mean</th><th>std</th><th>min</th><th>25%</th><th>median</th><th>75%</th><th>max</th></tr><tr><td>bill_length_mm</td><td>342</td><td>43.92192982456141</td><td>5.4595837139265315</td><td>32.1</td><td>39.225</td><td>44.382000000000005</td><td>48.5</td><td>59.6</td></tr><tr><td>bill_depth_mm</td><td>342</td><td>17.151169590643274</td><td>1.9747931568167814</td><td>13.1</td><td>15.6</td><td>17.32</td><td>18.7</td><td>21.5</td></tr><tr><td>flipper_length_mm</td><td>342</td><td>200.91520467836258</td><td>14.061713679356888</td><td>172.0</td><td>190.0</td><td>197.0</td><td>213.0</td><td>231.0</td></tr><tr><td>body_mass_g</td><td>342</td><td>4201.754385964912</td><td>801.9545356980955</td><td>2700.0</td><td>3550.0</td><td>4031.5</td><td>4750.0</td><td>6300.0</td></tr><tr><td>year</td><td>344</td><td>2008.0290697674418</td><td>0.8183559254837041</td><td>2007.0</td><td>2007.0</td><td>2008.0</td><td>2009.0</td><td>2009.0</td></tr></table>"
      ],
      "text/plain": [
       "#<RedAmber::DataFrame : 5 x 9 Vectors, 0x000000000000f190>\n",
       "  variables            count     mean      std      min      25%   median ...      max\n",
       "  <dictionary>      <uint16> <double> <double> <double> <double> <double> ... <double>\n",
       "1 bill_length_mm         342    43.92     5.46     32.1    39.23    44.38 ...     59.6\n",
       "2 bill_depth_mm          342    17.15     1.97     13.1     15.6    17.32 ...     21.5\n",
       "3 flipper_length_mm      342   200.92    14.06    172.0    190.0    197.0 ...    231.0\n",
       "4 body_mass_g            342  4201.75   801.95   2700.0   3550.0   4031.5 ...   6300.0\n",
       "5 year                   344  2008.03     0.82   2007.0   2007.0   2008.0 ...   2009.0\n"
      ]
     },
     "execution_count": 14,
     "metadata": {},
     "output_type": "execute_result"
    }
   ],
   "source": [
    "penguins.summary"
   ]
  },
  {
   "cell_type": "code",
   "execution_count": 15,
   "metadata": {},
   "outputs": [
    {
     "data": {
      "text/html": [
       "RedAmber::DataFrame <87 x 12 vectors> <table><tr><th>unnamed1</th><th>name</th><th>height</th><th>mass</th><th>hair_color</th><th>skin_color</th><th>eye_color</th><th>birth_year</th><th>sex</th><th>gender</th><th>homeworld</th><th>species</th></tr><tr><td>1</td><td>Luke Skywalker</td><td>172</td><td>77.0</td><td>blond</td><td>fair</td><td>blue</td><td>19.0</td><td>male</td><td>masculine</td><td>Tatooine</td><td>Human</td></tr><tr><td>2</td><td>C-3PO</td><td>167</td><td>75.0</td><td>NA</td><td>gold</td><td>yellow</td><td>112.0</td><td>none</td><td>masculine</td><td>Tatooine</td><td>Droid</td></tr><tr><td>3</td><td>R2-D2</td><td>96</td><td>32.0</td><td>NA</td><td>white, blue</td><td>red</td><td>33.0</td><td>none</td><td>masculine</td><td>Naboo</td><td>Droid</td></tr><tr><td>4</td><td>Darth Vader</td><td>202</td><td>136.0</td><td>none</td><td>white</td><td>yellow</td><td>41.9</td><td>male</td><td>masculine</td><td>Tatooine</td><td>Human</td></tr><tr><td colspan='12'>&#8942;</td></tr><tr><td>85</td><td>BB8</td><td><i>(nil)</i></td><td><i>(nil)</i></td><td>none</td><td>none</td><td>black</td><td><i>(nil)</i></td><td>none</td><td>masculine</td><td>NA</td><td>Droid</td></tr><tr><td>86</td><td>Captain Phasma</td><td><i>(nil)</i></td><td><i>(nil)</i></td><td>unknown</td><td>unknown</td><td>unknown</td><td><i>(nil)</i></td><td>NA</td><td>NA</td><td>NA</td><td>NA</td></tr><tr><td>87</td><td>Padmé Amidala</td><td>165</td><td>45.0</td><td>brown</td><td>light</td><td>brown</td><td>46.0</td><td>female</td><td>feminine</td><td>Naboo</td><td>Human</td></tr></table>"
      ],
      "text/plain": [
       "#<RedAmber::DataFrame : 87 x 12 Vectors, 0x000000000000f1a4>\n",
       "   unnamed1 name            height     mass hair_color skin_color  eye_color ... species\n",
       "    <int64> <string>       <int64> <double> <string>   <string>    <string>  ... <string>\n",
       " 1        1 Luke Skywalker     172     77.0 blond      fair        blue      ... Human\n",
       " 2        2 C-3PO              167     75.0 NA         gold        yellow    ... Droid\n",
       " 3        3 R2-D2               96     32.0 NA         white, blue red       ... Droid\n",
       " 4        4 Darth Vader        202    136.0 none       white       yellow    ... Human\n",
       " 5        5 Leia Organa        150     49.0 brown      light       brown     ... Human\n",
       " :        : :                    :        : :          :           :         ... :\n",
       "85       85 BB8              (nil)    (nil) none       none        black     ... Droid\n",
       "86       86 Captain Phasma   (nil)    (nil) unknown    unknown     unknown   ... NA\n",
       "87       87 Padmé Amidala      165     45.0 brown      light       brown     ... Human\n"
      ]
     },
     "execution_count": 15,
     "metadata": {},
     "output_type": "execute_result"
    }
   ],
   "source": [
    "starwars = RedAmber::DataFrame.load(URI(\"https://vincentarelbundock.github.io/Rdatasets/csv/dplyr/starwars.csv\"))\n",
    "starwars"
   ]
  },
  {
   "cell_type": "code",
   "execution_count": 16,
   "metadata": {},
   "outputs": [
    {
     "data": {
      "text/html": [
       "RedAmber::DataFrame <9 x 4 vectors> <table><tr><th>species</th><th>count</th><th>mean(height)</th><th>mean(mass)</th></tr><tr><td>Human</td><td>35</td><td>176.6451612903226</td><td>82.78181818181818</td></tr><tr><td>Droid</td><td>6</td><td>131.2</td><td>69.75</td></tr><tr><td>Wookiee</td><td>2</td><td>231.0</td><td>124.0</td></tr><tr><td>Gungan</td><td>3</td><td>208.66666666666666</td><td>74.0</td></tr><tr><td colspan='4'>&#8942;</td></tr><tr><td>Twi'lek</td><td>2</td><td>179.0</td><td>55.0</td></tr><tr><td>Mirialan</td><td>2</td><td>168.0</td><td>53.1</td></tr><tr><td>Kaminoan</td><td>2</td><td>221.0</td><td>88.0</td></tr></table>"
      ],
      "text/plain": [
       "#<RedAmber::DataFrame : 9 x 4 Vectors, 0x000000000000f1b8>\n",
       "  species    count mean(height) mean(mass)\n",
       "  <string> <int64>     <double>   <double>\n",
       "1 Human         35       176.65      82.78\n",
       "2 Droid          6        131.2      69.75\n",
       "3 Wookiee        2        231.0      124.0\n",
       "4 Gungan         3       208.67       74.0\n",
       "5 NA             4       181.33       48.0\n",
       ": :              :            :          :\n",
       "7 Twi'lek        2        179.0       55.0\n",
       "8 Mirialan       2        168.0       53.1\n",
       "9 Kaminoan       2        221.0       88.0\n"
      ]
     },
     "execution_count": 16,
     "metadata": {},
     "output_type": "execute_result"
    }
   ],
   "source": [
    "grouped = starwars.group(:species) {[count(:species), mean(:height, :mass)]}\n",
    "grouped.slice { v(:count) > 1 }"
   ]
  },
  {
   "cell_type": "markdown",
   "metadata": {},
   "source": [
    "## `RedAmber::Vector`"
   ]
  },
  {
   "cell_type": "code",
   "execution_count": 18,
   "metadata": {},
   "outputs": [
    {
     "data": {
      "text/plain": [
       "#<RedAmber::Vector(:double, size=344):0x000000000000f1cc>\n",
       "[39.1, 39.5, 40.3, nil, 36.7, 39.3, 38.9, 39.2, 34.1, 42.0, 37.8, 37.8, 41.1, ... ]\n"
      ]
     },
     "execution_count": 18,
     "metadata": {},
     "output_type": "execute_result"
    }
   ],
   "source": [
    "penguins[:bill_length_mm]"
   ]
  },
  {
   "cell_type": "code",
   "execution_count": 19,
   "metadata": {},
   "outputs": [
    {
     "data": {
      "text/plain": [
       "#<RedAmber::Vector(:boolean, size=344):0x000000000000f1e0>\n",
       "[true, true, false, nil, true, true, true, true, true, false, true, true, false, ... ]\n"
      ]
     },
     "execution_count": 19,
     "metadata": {},
     "output_type": "execute_result"
    }
   ],
   "source": [
    "penguins[:bill_length_mm] < 40"
   ]
  },
  {
   "cell_type": "code",
   "execution_count": 20,
   "metadata": {},
   "outputs": [
    {
     "data": {
      "text/plain": [
       "43.92192982456141"
      ]
     },
     "execution_count": 20,
     "metadata": {},
     "output_type": "execute_result"
    }
   ],
   "source": [
    "penguins[:bill_length_mm].mean"
   ]
  },
  {
   "cell_type": "code",
   "execution_count": null,
   "metadata": {},
   "outputs": [],
   "source": []
  }
 ],
 "metadata": {
  "kernelspec": {
   "display_name": "Ruby 3.1.2",
   "language": "ruby",
   "name": "ruby"
  },
  "language_info": {
   "file_extension": ".rb",
   "mimetype": "application/x-ruby",
   "name": "ruby",
   "version": "3.1.2"
  },
  "orig_nbformat": 4
 },
 "nbformat": 4,
 "nbformat_minor": 2
}
